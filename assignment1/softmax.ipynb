{
 "cells": [
  {
   "cell_type": "markdown",
   "metadata": {},
   "source": [
    "# Softmax exercise\n",
    "\n",
    "*Complete and hand in this completed worksheet (including its outputs and any supporting code outside of the worksheet) with your assignment submission. For more details see the [assignments page](http://vision.stanford.edu/teaching/cs231n/assignments.html) on the course website.*\n",
    "\n",
    "This exercise is analogous to the SVM exercise. You will:\n",
    "\n",
    "- implement a fully-vectorized **loss function** for the Softmax classifier\n",
    "- implement the fully-vectorized expression for its **analytic gradient**\n",
    "- **check your implementation** with numerical gradient\n",
    "- use a validation set to **tune the learning rate and regularization** strength\n",
    "- **optimize** the loss function with **SGD**\n",
    "- **visualize** the final learned weights\n"
   ]
  },
  {
   "cell_type": "code",
   "execution_count": 1,
   "metadata": {},
   "outputs": [],
   "source": [
    "import random\n",
    "import numpy as np\n",
    "from cs231n.data_utils import load_CIFAR10\n",
    "import matplotlib.pyplot as plt\n",
    "\n",
    "from __future__ import print_function\n",
    "\n",
    "%matplotlib inline\n",
    "plt.rcParams['figure.figsize'] = (10.0, 8.0) # set default size of plots\n",
    "plt.rcParams['image.interpolation'] = 'nearest'\n",
    "plt.rcParams['image.cmap'] = 'gray'\n",
    "\n",
    "# for auto-reloading extenrnal modules\n",
    "# see http://stackoverflow.com/questions/1907993/autoreload-of-modules-in-ipython\n",
    "%load_ext autoreload\n",
    "%autoreload 2"
   ]
  },
  {
   "cell_type": "code",
   "execution_count": 2,
   "metadata": {},
   "outputs": [
    {
     "name": "stdout",
     "output_type": "stream",
     "text": [
      "Train data shape:  (49000, 3073)\n",
      "Train labels shape:  (49000,)\n",
      "Validation data shape:  (1000, 3073)\n",
      "Validation labels shape:  (1000,)\n",
      "Test data shape:  (1000, 3073)\n",
      "Test labels shape:  (1000,)\n",
      "dev data shape:  (500, 3073)\n",
      "dev labels shape:  (500,)\n"
     ]
    }
   ],
   "source": [
    "def get_CIFAR10_data(num_training=49000, num_validation=1000, num_test=1000, num_dev=500):\n",
    "    \"\"\"\n",
    "    Load the CIFAR-10 dataset from disk and perform preprocessing to prepare\n",
    "    it for the linear classifier. These are the same steps as we used for the\n",
    "    SVM, but condensed to a single function.  \n",
    "    \"\"\"\n",
    "    # Load the raw CIFAR-10 data\n",
    "    cifar10_dir = 'cs231n/datasets/cifar-10-batches-py'\n",
    "    \n",
    "    X_train, y_train, X_test, y_test = load_CIFAR10(cifar10_dir)\n",
    "    \n",
    "    # subsample the data\n",
    "    mask = list(range(num_training, num_training + num_validation))\n",
    "    X_val = X_train[mask]\n",
    "    y_val = y_train[mask]\n",
    "    mask = list(range(num_training))\n",
    "    X_train = X_train[mask]\n",
    "    y_train = y_train[mask]\n",
    "    mask = list(range(num_test))\n",
    "    X_test = X_test[mask]\n",
    "    y_test = y_test[mask]\n",
    "    mask = np.random.choice(num_training, num_dev, replace=False)\n",
    "    X_dev = X_train[mask]\n",
    "    y_dev = y_train[mask]\n",
    "    \n",
    "    # Preprocessing: reshape the image data into rows\n",
    "    X_train = np.reshape(X_train, (X_train.shape[0], -1))\n",
    "    X_val = np.reshape(X_val, (X_val.shape[0], -1))\n",
    "    X_test = np.reshape(X_test, (X_test.shape[0], -1))\n",
    "    X_dev = np.reshape(X_dev, (X_dev.shape[0], -1))\n",
    "    \n",
    "    # Normalize the data: subtract the mean image\n",
    "    mean_image = np.mean(X_train, axis = 0)\n",
    "    X_train -= mean_image\n",
    "    X_val -= mean_image\n",
    "    X_test -= mean_image\n",
    "    X_dev -= mean_image\n",
    "    \n",
    "    # add bias dimension and transform into columns\n",
    "    X_train = np.hstack([X_train, np.ones((X_train.shape[0], 1))])\n",
    "    X_val = np.hstack([X_val, np.ones((X_val.shape[0], 1))])\n",
    "    X_test = np.hstack([X_test, np.ones((X_test.shape[0], 1))])\n",
    "    X_dev = np.hstack([X_dev, np.ones((X_dev.shape[0], 1))])\n",
    "    \n",
    "    return X_train, y_train, X_val, y_val, X_test, y_test, X_dev, y_dev\n",
    "\n",
    "\n",
    "# Cleaning up variables to prevent loading data multiple times (which may cause memory issue)\n",
    "try:\n",
    "   del X_train, y_train\n",
    "   del X_test, y_test\n",
    "   print('Clear previously loaded data.')\n",
    "except:\n",
    "   pass\n",
    "\n",
    "# Invoke the above function to get our data.\n",
    "X_train, y_train, X_val, y_val, X_test, y_test, X_dev, y_dev = get_CIFAR10_data()\n",
    "print('Train data shape: ', X_train.shape)\n",
    "print('Train labels shape: ', y_train.shape)\n",
    "print('Validation data shape: ', X_val.shape)\n",
    "print('Validation labels shape: ', y_val.shape)\n",
    "print('Test data shape: ', X_test.shape)\n",
    "print('Test labels shape: ', y_test.shape)\n",
    "print('dev data shape: ', X_dev.shape)\n",
    "print('dev labels shape: ', y_dev.shape)"
   ]
  },
  {
   "cell_type": "markdown",
   "metadata": {},
   "source": [
    "## Softmax Classifier\n",
    "\n",
    "Your code for this section will all be written inside **cs231n/classifiers/softmax.py**. \n"
   ]
  },
  {
   "cell_type": "code",
   "execution_count": 33,
   "metadata": {},
   "outputs": [
    {
     "name": "stdout",
     "output_type": "stream",
     "text": [
      "loss: 2.351278\n",
      "sanity check: 2.302585\n"
     ]
    }
   ],
   "source": [
    "# First implement the naive softmax loss function with nested loops.\n",
    "# Open the file cs231n/classifiers/softmax.py and implement the\n",
    "# softmax_loss_naive function.\n",
    "\n",
    "from cs231n.classifiers.softmax import softmax_loss_naive\n",
    "import time\n",
    "\n",
    "# Generate a random softmax weight matrix and use it to compute the loss.\n",
    "W = np.random.randn(3073, 10) * 0.0001\n",
    "loss, grad = softmax_loss_naive(W, X_dev, y_dev, 0.0)\n",
    "\n",
    "# As a rough sanity check, our loss should be something close to -log(0.1).\n",
    "print('loss: %f' % loss)\n",
    "print('sanity check: %f' % (-np.log(0.1)))"
   ]
  },
  {
   "cell_type": "markdown",
   "metadata": {},
   "source": [
    "# Inline Question 1:\n",
    "Why do we expect our loss to be close to -log(0.1)? Explain briefly.**\n",
    "\n",
    "**Your answer:** The expression inside the log is the probability of classifying the sample to the correct label. Since we have not trained the model our guess probability is around 10% (we have 10 classes). Therefore, we expect our average loss to be -log(0.1)."
   ]
  },
  {
   "cell_type": "code",
   "execution_count": 34,
   "metadata": {},
   "outputs": [
    {
     "name": "stdout",
     "output_type": "stream",
     "text": [
      "numerical: -0.997557 analytic: -0.997557, relative error: 7.601600e-08\n",
      "numerical: 0.701502 analytic: 0.701502, relative error: 2.928639e-08\n",
      "numerical: 2.645351 analytic: 2.645351, relative error: 1.580969e-08\n",
      "numerical: 1.490847 analytic: 1.490847, relative error: 5.177730e-08\n",
      "numerical: -0.175750 analytic: -0.175750, relative error: 2.121965e-07\n",
      "numerical: -3.720244 analytic: -3.720244, relative error: 2.056255e-08\n",
      "numerical: 0.024416 analytic: 0.024416, relative error: 2.343797e-06\n",
      "numerical: -1.024340 analytic: -1.024340, relative error: 6.008185e-08\n",
      "numerical: 2.207300 analytic: 2.207299, relative error: 1.582676e-08\n",
      "numerical: -1.090956 analytic: -1.090956, relative error: 2.545690e-09\n",
      "numerical: -1.478458 analytic: -1.478458, relative error: 1.748313e-08\n",
      "numerical: -1.112654 analytic: -1.112654, relative error: 2.990761e-08\n",
      "numerical: 1.028974 analytic: 1.028973, relative error: 5.801693e-08\n",
      "numerical: -2.673539 analytic: -2.673539, relative error: 5.018185e-09\n",
      "numerical: 0.030073 analytic: 0.030073, relative error: 7.811838e-08\n",
      "numerical: -4.016805 analytic: -4.016805, relative error: 8.177167e-09\n",
      "numerical: 3.359466 analytic: 3.359466, relative error: 4.052475e-09\n",
      "numerical: 0.123597 analytic: 0.123597, relative error: 9.371123e-08\n",
      "numerical: -1.884849 analytic: -1.884849, relative error: 6.566391e-09\n",
      "numerical: 0.099366 analytic: 0.099366, relative error: 4.239897e-07\n"
     ]
    }
   ],
   "source": [
    "# Complete the implementation of softmax_loss_naive and implement a (naive)\n",
    "# version of the gradient that uses nested loops.\n",
    "loss, grad = softmax_loss_naive(W, X_dev, y_dev, 0.0)\n",
    "\n",
    "# As we did for the SVM, use numeric gradient checking as a debugging tool.\n",
    "# The numeric gradient should be close to the analytic gradient.\n",
    "from cs231n.gradient_check import grad_check_sparse\n",
    "f = lambda w: softmax_loss_naive(w, X_dev, y_dev, 0.0)[0]\n",
    "grad_numerical = grad_check_sparse(f, W, grad, 10)\n",
    "\n",
    "# similar to SVM case, do another gradient check with regularization\n",
    "loss, grad = softmax_loss_naive(W, X_dev, y_dev, 5e1)\n",
    "f = lambda w: softmax_loss_naive(w, X_dev, y_dev, 5e1)[0]\n",
    "grad_numerical = grad_check_sparse(f, W, grad, 10)"
   ]
  },
  {
   "cell_type": "code",
   "execution_count": 38,
   "metadata": {},
   "outputs": [
    {
     "name": "stdout",
     "output_type": "stream",
     "text": [
      "naive loss: 2.351278e+00 computed in 0.082552s\n",
      "vectorized loss: 2.351278e+00 computed in 0.026190s\n",
      "Loss difference: 0.000000\n",
      "Gradient difference: 0.000000\n"
     ]
    }
   ],
   "source": [
    "# Now that we have a naive implementation of the softmax loss function and its gradient,\n",
    "# implement a vectorized version in softmax_loss_vectorized.\n",
    "# The two versions should compute the same results, but the vectorized version should be\n",
    "# much faster.\n",
    "tic = time.time()\n",
    "loss_naive, grad_naive = softmax_loss_naive(W, X_dev, y_dev, 0.000005)\n",
    "toc = time.time()\n",
    "print('naive loss: %e computed in %fs' % (loss_naive, toc - tic))\n",
    "\n",
    "from cs231n.classifiers.softmax import softmax_loss_vectorized\n",
    "tic = time.time()\n",
    "loss_vectorized, grad_vectorized = softmax_loss_vectorized(W, X_dev, y_dev, 0.000005)\n",
    "toc = time.time()\n",
    "print('vectorized loss: %e computed in %fs' % (loss_vectorized, toc - tic))\n",
    "\n",
    "# As we did for the SVM, we use the Frobenius norm to compare the two versions\n",
    "# of the gradient.\n",
    "grad_difference = np.linalg.norm(grad_naive - grad_vectorized, ord='fro')\n",
    "print('Loss difference: %f' % np.abs(loss_naive - loss_vectorized))\n",
    "print('Gradient difference: %f' % grad_difference)"
   ]
  },
  {
   "cell_type": "code",
   "execution_count": 40,
   "metadata": {},
   "outputs": [
    {
     "name": "stdout",
     "output_type": "stream",
     "text": [
      "Result for  (1e-07, 25000.0)  is  (0.3306734693877551, 0.34)\n",
      "Result for  (1e-07, 30000.0)  is  (0.3268979591836735, 0.344)\n",
      "Result for  (1e-07, 40000.0)  is  (0.3135918367346939, 0.329)\n",
      "Result for  (1e-07, 50000.0)  is  (0.3039387755102041, 0.327)\n",
      "Result for  (1e-07, 100000.0)  is  (0.28248979591836737, 0.291)\n",
      "Result for  (2e-07, 25000.0)  is  (0.33057142857142857, 0.352)\n",
      "Result for  (2e-07, 30000.0)  is  (0.31312244897959185, 0.326)\n",
      "Result for  (2e-07, 40000.0)  is  (0.3120816326530612, 0.327)\n",
      "Result for  (2e-07, 50000.0)  is  (0.3029183673469388, 0.32)\n",
      "Result for  (2e-07, 100000.0)  is  (0.29359183673469386, 0.3)\n",
      "Result for  (3e-07, 25000.0)  is  (0.33416326530612245, 0.358)\n",
      "Result for  (3e-07, 30000.0)  is  (0.3223877551020408, 0.331)\n",
      "Result for  (3e-07, 40000.0)  is  (0.31373469387755104, 0.329)\n",
      "Result for  (3e-07, 50000.0)  is  (0.3107755102040816, 0.33)\n",
      "Result for  (3e-07, 100000.0)  is  (0.28806122448979593, 0.304)\n",
      "Result for  (4e-07, 25000.0)  is  (0.32922448979591834, 0.344)\n",
      "Result for  (4e-07, 30000.0)  is  (0.3134489795918367, 0.334)\n",
      "Result for  (4e-07, 40000.0)  is  (0.31004081632653063, 0.335)\n",
      "Result for  (4e-07, 50000.0)  is  (0.3132857142857143, 0.326)\n",
      "Result for  (4e-07, 100000.0)  is  (0.2805714285714286, 0.291)\n",
      "Result for  (5e-07, 25000.0)  is  (0.3199795918367347, 0.344)\n",
      "Result for  (5e-07, 30000.0)  is  (0.30726530612244896, 0.319)\n",
      "Result for  (5e-07, 40000.0)  is  (0.31355102040816324, 0.336)\n",
      "Result for  (5e-07, 50000.0)  is  (0.29189795918367345, 0.318)\n",
      "Result for  (5e-07, 100000.0)  is  (0.2846530612244898, 0.299)\n",
      "lr 1.000000e-07 reg 2.500000e+04 train accuracy: 0.330673 val accuracy: 0.340000\n",
      "lr 1.000000e-07 reg 3.000000e+04 train accuracy: 0.326898 val accuracy: 0.344000\n",
      "lr 1.000000e-07 reg 4.000000e+04 train accuracy: 0.313592 val accuracy: 0.329000\n",
      "lr 1.000000e-07 reg 5.000000e+04 train accuracy: 0.303939 val accuracy: 0.327000\n",
      "lr 1.000000e-07 reg 1.000000e+05 train accuracy: 0.282490 val accuracy: 0.291000\n",
      "lr 2.000000e-07 reg 2.500000e+04 train accuracy: 0.330571 val accuracy: 0.352000\n",
      "lr 2.000000e-07 reg 3.000000e+04 train accuracy: 0.313122 val accuracy: 0.326000\n",
      "lr 2.000000e-07 reg 4.000000e+04 train accuracy: 0.312082 val accuracy: 0.327000\n",
      "lr 2.000000e-07 reg 5.000000e+04 train accuracy: 0.302918 val accuracy: 0.320000\n",
      "lr 2.000000e-07 reg 1.000000e+05 train accuracy: 0.293592 val accuracy: 0.300000\n",
      "lr 3.000000e-07 reg 2.500000e+04 train accuracy: 0.334163 val accuracy: 0.358000\n",
      "lr 3.000000e-07 reg 3.000000e+04 train accuracy: 0.322388 val accuracy: 0.331000\n",
      "lr 3.000000e-07 reg 4.000000e+04 train accuracy: 0.313735 val accuracy: 0.329000\n",
      "lr 3.000000e-07 reg 5.000000e+04 train accuracy: 0.310776 val accuracy: 0.330000\n",
      "lr 3.000000e-07 reg 1.000000e+05 train accuracy: 0.288061 val accuracy: 0.304000\n",
      "lr 4.000000e-07 reg 2.500000e+04 train accuracy: 0.329224 val accuracy: 0.344000\n",
      "lr 4.000000e-07 reg 3.000000e+04 train accuracy: 0.313449 val accuracy: 0.334000\n",
      "lr 4.000000e-07 reg 4.000000e+04 train accuracy: 0.310041 val accuracy: 0.335000\n",
      "lr 4.000000e-07 reg 5.000000e+04 train accuracy: 0.313286 val accuracy: 0.326000\n",
      "lr 4.000000e-07 reg 1.000000e+05 train accuracy: 0.280571 val accuracy: 0.291000\n",
      "lr 5.000000e-07 reg 2.500000e+04 train accuracy: 0.319980 val accuracy: 0.344000\n",
      "lr 5.000000e-07 reg 3.000000e+04 train accuracy: 0.307265 val accuracy: 0.319000\n",
      "lr 5.000000e-07 reg 4.000000e+04 train accuracy: 0.313551 val accuracy: 0.336000\n",
      "lr 5.000000e-07 reg 5.000000e+04 train accuracy: 0.291898 val accuracy: 0.318000\n",
      "lr 5.000000e-07 reg 1.000000e+05 train accuracy: 0.284653 val accuracy: 0.299000\n",
      "best validation accuracy achieved during cross-validation: 0.358000\n"
     ]
    }
   ],
   "source": [
    "# Use the validation set to tune hyperparameters (regularization strength and\n",
    "# learning rate). You should experiment with different ranges for the learning\n",
    "# rates and regularization strengths; if you are careful you should be able to\n",
    "# get a classification accuracy of over 0.35 on the validation set.\n",
    "from cs231n.classifiers import Softmax\n",
    "results = {}\n",
    "best_val = -1\n",
    "best_softmax = None\n",
    "learning_rates = [1e-7, 2e-7, 3e-7, 4e-7, 5e-7]\n",
    "regularization_strengths = [2.5e4, 3e4, 4e4, 5e4, 1e5]\n",
    "\n",
    "################################################################################\n",
    "# TODO:                                                                        #\n",
    "# Use the validation set to set the learning rate and regularization strength. #\n",
    "# This should be identical to the validation that you did for the SVM; save    #\n",
    "# the best trained softmax classifer in best_softmax.                          #\n",
    "################################################################################\n",
    "def accuracy(prediction, actual_labels):\n",
    "    return np.sum(prediction==actual_labels) / prediction.shape[0]\n",
    "\n",
    "for learn_rate in learning_rates:\n",
    "    for regu_str in regularization_strengths:\n",
    "        hyperparam_tuple = (learn_rate, regu_str)\n",
    "        softmax = Softmax()\n",
    "        loss_hist = softmax.train(X_train, y_train, \n",
    "                                  learning_rate=learn_rate, \n",
    "                                  reg=regu_str,\n",
    "                                  num_iters=2000, \n",
    "                                  verbose=False)\n",
    "        train_accu = accuracy( softmax.predict(X_train), y_train )\n",
    "        valid_accu = accuracy( softmax.predict(X_val), y_val )\n",
    "        \n",
    "        result_tuple = (train_accu, valid_accu)\n",
    "        results[hyperparam_tuple] = result_tuple\n",
    "        print('Result for ', hyperparam_tuple, ' is ', result_tuple)\n",
    "        \n",
    "        if valid_accu > best_val:\n",
    "            best_val = valid_accu\n",
    "            best_softmax = softmax\n",
    "################################################################################\n",
    "#                              END OF YOUR CODE                                #\n",
    "################################################################################\n",
    "    \n",
    "# Print out results.\n",
    "for lr, reg in sorted(results):\n",
    "    train_accuracy, val_accuracy = results[(lr, reg)]\n",
    "    print('lr %e reg %e train accuracy: %f val accuracy: %f' % (\n",
    "                lr, reg, train_accuracy, val_accuracy))\n",
    "    \n",
    "print('best validation accuracy achieved during cross-validation: %f' % best_val)"
   ]
  },
  {
   "cell_type": "code",
   "execution_count": 41,
   "metadata": {},
   "outputs": [
    {
     "name": "stdout",
     "output_type": "stream",
     "text": [
      "softmax on raw pixels final test set accuracy: 0.344000\n"
     ]
    }
   ],
   "source": [
    "# evaluate on test set\n",
    "# Evaluate the best softmax on test set\n",
    "y_test_pred = best_softmax.predict(X_test)\n",
    "test_accuracy = np.mean(y_test == y_test_pred)\n",
    "print('softmax on raw pixels final test set accuracy: %f' % (test_accuracy, ))"
   ]
  },
  {
   "cell_type": "raw",
   "metadata": {},
   "source": [
    "**Inline Question** - *True or False*\n",
    "\n",
    "It's possible to add a new datapoint to a training set that would leave the SVM loss unchanged, but this is not the case with the Softmax classifier loss.\n",
    "\n",
    "*Your answer*: True\n",
    "\n",
    "*Your explanation*: I believe it is possible because in the case of the SVM loss we had a max function that would ignore the negative values, so adding a new data point could result in no changes in the loss value. In the case of softmax we are considering negative values so the same datapoint would influence the softmax loss value."
   ]
  },
  {
   "cell_type": "code",
   "execution_count": 42,
   "metadata": {},
   "outputs": [
    {
     "data": {
      "image/png": "[encoded data removed]",
      "text/plain": [
       "<Figure size 720x576 with 10 Axes>"
      ]
     },
     "metadata": {},
     "output_type": "display_data"
    }
   ],
   "source": [
    "# Visualize the learned weights for each class\n",
    "w = best_softmax.W[:-1,:] # strip out the bias\n",
    "w = w.reshape(32, 32, 3, 10)\n",
    "\n",
    "w_min, w_max = np.min(w), np.max(w)\n",
    "\n",
    "classes = ['plane', 'car', 'bird', 'cat', 'deer', 'dog', 'frog', 'horse', 'ship', 'truck']\n",
    "for i in range(10):\n",
    "    plt.subplot(2, 5, i + 1)\n",
    "    \n",
    "    # Rescale the weights to be between 0 and 255\n",
    "    wimg = 255.0 * (w[:, :, :, i].squeeze() - w_min) / (w_max - w_min)\n",
    "    plt.imshow(wimg.astype('uint8'))\n",
    "    plt.axis('off')\n",
    "    plt.title(classes[i])"
   ]
  },
  {
   "cell_type": "code",
   "execution_count": null,
   "metadata": {},
   "outputs": [],
   "source": []
  }
 ],
 "metadata": {
  "kernelspec": {
   "display_name": "Python 3",
   "language": "python",
   "name": "python3"
  },
  "language_info": {
   "codemirror_mode": {
    "name": "ipython",
    "version": 3
   },
   "file_extension": ".py",
   "mimetype": "text/x-python",
   "name": "python",
   "nbconvert_exporter": "python",
   "pygments_lexer": "ipython3",
   "version": "3.6.5"
  }
 },
 "nbformat": 4,
 "nbformat_minor": 1
}
